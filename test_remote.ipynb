{
 "cells": [
  {
   "cell_type": "code",
   "execution_count": 3,
   "id": "ea074965",
   "metadata": {},
   "outputs": [
    {
     "data": {
      "text/html": [
       "<div>\n",
       "<style scoped>\n",
       "    .dataframe tbody tr th:only-of-type {\n",
       "        vertical-align: middle;\n",
       "    }\n",
       "\n",
       "    .dataframe tbody tr th {\n",
       "        vertical-align: top;\n",
       "    }\n",
       "\n",
       "    .dataframe thead th {\n",
       "        text-align: right;\n",
       "    }\n",
       "</style>\n",
       "<table border=\"1\" class=\"dataframe\">\n",
       "  <thead>\n",
       "    <tr style=\"text-align: right;\">\n",
       "      <th></th>\n",
       "      <th>REG_DATE</th>\n",
       "      <th>PAGE_TITLE</th>\n",
       "      <th>PAGE_TEXT</th>\n",
       "    </tr>\n",
       "  </thead>\n",
       "  <tbody>\n",
       "    <tr>\n",
       "      <th>0</th>\n",
       "      <td>2025-05-01 00:00:02</td>\n",
       "      <td>NaN</td>\n",
       "      <td>나 어렸을때 네비가 없었는데 어떻게 운전한거여.. 맨날 가던길도 네비없으면 못가겠는...</td>\n",
       "    </tr>\n",
       "    <tr>\n",
       "      <th>1</th>\n",
       "      <td>2025-05-01 00:00:04</td>\n",
       "      <td>SKT 단독 청문회 확정</td>\n",
       "      <td>커뮤니티 2조 드립 삭제 =&gt; 국회 과방위 박제 위약금 면제 확답 회피 =&gt; 결정권...</td>\n",
       "    </tr>\n",
       "    <tr>\n",
       "      <th>2</th>\n",
       "      <td>2025-05-01 00:00:15</td>\n",
       "      <td>Trump Immigration</td>\n",
       "      <td>Trump Immigration A U.S. Marine Osprey is flow...</td>\n",
       "    </tr>\n",
       "    <tr>\n",
       "      <th>3</th>\n",
       "      <td>2025-05-01 00:00:15</td>\n",
       "      <td>Trump Immigration</td>\n",
       "      <td>Trump Immigration Migrants make their way to a...</td>\n",
       "    </tr>\n",
       "    <tr>\n",
       "      <th>4</th>\n",
       "      <td>2025-05-01 00:00:15</td>\n",
       "      <td>Trump Immigration</td>\n",
       "      <td>Trump Immigration Police face off with demonst...</td>\n",
       "    </tr>\n",
       "  </tbody>\n",
       "</table>\n",
       "</div>"
      ],
      "text/plain": [
       "              REG_DATE         PAGE_TITLE  \\\n",
       "0  2025-05-01 00:00:02                NaN   \n",
       "1  2025-05-01 00:00:04      SKT 단독 청문회 확정   \n",
       "2  2025-05-01 00:00:15  Trump Immigration   \n",
       "3  2025-05-01 00:00:15  Trump Immigration   \n",
       "4  2025-05-01 00:00:15  Trump Immigration   \n",
       "\n",
       "                                           PAGE_TEXT  \n",
       "0  나 어렸을때 네비가 없었는데 어떻게 운전한거여.. 맨날 가던길도 네비없으면 못가겠는...  \n",
       "1  커뮤니티 2조 드립 삭제 => 국회 과방위 박제 위약금 면제 확답 회피 => 결정권...  \n",
       "2  Trump Immigration A U.S. Marine Osprey is flow...  \n",
       "3  Trump Immigration Migrants make their way to a...  \n",
       "4  Trump Immigration Police face off with demonst...  "
      ]
     },
     "execution_count": 3,
     "metadata": {},
     "output_type": "execute_result"
    }
   ],
   "source": [
    "import pandas as pd\n",
    "\n",
    "df = pd.read_csv('stock_min_volume_20250502full.csv')\n",
    "df.head()"
   ]
  },
  {
   "cell_type": "code",
   "execution_count": 4,
   "id": "908bf55f",
   "metadata": {},
   "outputs": [
    {
     "data": {
      "text/plain": [
       "True"
      ]
     },
     "execution_count": 4,
     "metadata": {},
     "output_type": "execute_result"
    }
   ],
   "source": [
    "from dotenv import load_dotenv\n",
    "\n",
    "load_dotenv()"
   ]
  },
  {
   "cell_type": "code",
   "execution_count": null,
   "id": "c1115f5e",
   "metadata": {},
   "outputs": [],
   "source": [
    "from langchain.document_loaders import PyMuPDFLoader\n",
    "from langchain.text_splitter import RecursiveCharacterTextSplitter\n",
    "from langchain.vectorstores import FAISS\n",
    "from langchain.embeddings import HuggingFaceEmbeddings\n",
    "\n",
    "# 1. PDF 로드\n",
    "loader = PyMuPDFLoader(\"dev_center_guide.pdf\")\n",
    "documents = loader.load()\n",
    "\n",
    "print('pdf file load completed ..')\n",
    "\n",
    "# 2. 텍스트 분할 (임베딩 효율을 위해)\n",
    "text_splitter = RecursiveCharacterTextSplitter(chunk_size=500, chunk_overlap=100)\n",
    "splits = text_splitter.split_documents(documents)\n",
    "\n",
    "# 3. 임베딩 모델 정의\n",
    "embedding = HuggingFaceEmbeddings(model_name=\"sentence-transformers/all-MiniLM-L6-v2\")\n",
    "\n",
    "# 4. FAISS Vector 저장소 생성\n",
    "vectorstore = FAISS.from_documents(splits, embedding)\n",
    "\n",
    "# 5. 저장 (선택적)\n",
    "vectorstore.save_local(\"model/dev_center_guide_index\")"
   ]
  },
  {
   "cell_type": "code",
   "execution_count": 7,
   "id": "46c4133a",
   "metadata": {},
   "outputs": [
    {
     "name": "stdout",
     "output_type": "stream",
     "text": [
      "답변:\n",
      "  \n",
      "1. 원스토어 개발자센터에서 테스트 ID로 등록한 ID로 원스토어 로그인 후, 실결제를 한다.\n",
      "2. 사용자가 문제를 해결하는데 도움이 되도록 딥링크를 제공한다.\n",
      "3. 사용자가 문제를 해결하여 정기 결제가 복구되면 정기 결제일은 복구된 날짜로 변경된다.\n",
      "4. 개발자가 자유롭게 구매취소를 할 수 있다.\n",
      "5. 결제창 UI를 전면 또는 팝업 결제화면으로 선택할 수 있다.\n",
      "6. 결제화면 설정은 원스토어 인앱결제 적용을 위한 사전준비 페이지의 'Android Manifest 파일 설정' 부분을 참고한다.\n",
      "7. IAP SDK 또는 AIDL을 선택하여 연동할 수 있다.\n",
      "8. 원스토어 서비스(ONE store service, OSS\n"
     ]
    }
   ],
   "source": [
    "from langchain.chains import RetrievalQA\n",
    "from langchain.llms import OpenAI  # 또는 ChatOpenAI 등\n",
    "\n",
    "# 1. Vector 저장소 로드\n",
    "vectorstore = FAISS.load_local(\"model/dev_center_guide_index\", embedding, allow_dangerous_deserialization=True)\n",
    "retriever = vectorstore.as_retriever(search_kwargs={\"k\": 3})\n",
    "\n",
    "# 2. LLM 연결 (ChatGPT API Key 필요)\n",
    "llm = OpenAI(temperature=0.1)\n",
    "\n",
    "# 3. QA 체인 생성\n",
    "qa_chain = RetrievalQA.from_chain_type(\n",
    "    llm=llm,\n",
    "    retriever=retriever,\n",
    "    return_source_documents=True\n",
    ")\n",
    "\n",
    "# 4. 질의\n",
    "query = \"인앱 연동을 위한 전체 과정을 설명해줘.\"\n",
    "result = qa_chain(query)\n",
    "\n",
    "print(\"답변:\\n\", result[\"result\"])"
   ]
  },
  {
   "cell_type": "code",
   "execution_count": 20,
   "id": "17db919a",
   "metadata": {},
   "outputs": [
    {
     "name": "stderr",
     "output_type": "stream",
     "text": [
      "/home/ml/dev/python_env/jupyter_notebook/venv/lib/python3.11/site-packages/transformers/tokenization_utils_base.py:1601: FutureWarning: `clean_up_tokenization_spaces` was not set. It will be set to `True` by default. This behavior will be depracted in transformers v4.45, and will be then set to `False` by default. For more details check this issue: https://github.com/huggingface/transformers/issues/31884\n",
      "  warnings.warn(\n"
     ]
    },
    {
     "name": "stdout",
     "output_type": "stream",
     "text": [
      " \n",
      "1. 원스토어 개발자센터에서 테스트 ID로 등록한 ID로 원스토어 로그인\n",
      "2. 실결제를 위해 개발자가 자유롭게 구매취소 가능\n",
      "3. 개발자는 상용환경에서 실결제를 해볼 수 있음\n",
      "4. 결제창 UI 설정 가능 (전면/팝업 결제화면 선택 가능)\n",
      "5. 연동 방식 선택 가능 (IAP SDK, AIDL)\n",
      "6. 원스토어 인앱결제 적용을 위한 사전준비 페이지의 'Android Manifest 파일 설정' 참고\n",
      "7. 개발사의 검증 환경과 동일 수준의 원스토어 결제환경 제공\n",
      "8. 개발사의 개발환경에서는 원스토어 Sandbox와 연동하여 개발/테스트 가능\n",
      "9. 개발사의 상용환경에서는 원스토어 상용환경에서 실결제 가능"
     ]
    },
    {
     "data": {
      "text/markdown": [
       " \n",
       "1. 원스토어 개발자센터에서 테스트 ID로 등록한 ID로 원스토어 로그인\n",
       "2. 실결제를 위해 개발자가 자유롭게 구매취소 가능\n",
       "3. 개발자는 상용환경에서 실결제를 해볼 수 있음\n",
       "4. 결제창 UI 설정 가능 (전면/팝업 결제화면 선택 가능)\n",
       "5. 연동 방식 선택 가능 (IAP SDK, AIDL)\n",
       "6. 원스토어 인앱결제 적용을 위한 사전준비 페이지의 'Android Manifest 파일 설정' 참고\n",
       "7. 개발사의 검증 환경과 동일 수준의 원스토어 결제환경 제공\n",
       "8. 개발사의 개발환경에서는 원스토어 Sandbox와 연동하여 개발/테스트 가능\n",
       "9. 개발사의 상용환경에서는 원스토어 상용환경에서 실결제 가능"
      ],
      "text/plain": [
       "<IPython.core.display.Markdown object>"
      ]
     },
     "metadata": {},
     "output_type": "display_data"
    }
   ],
   "source": [
    "from langchain.chains import ConversationalRetrievalChain\n",
    "from langchain.vectorstores import FAISS\n",
    "from langchain.memory import ConversationBufferMemory\n",
    "from langchain.embeddings import HuggingFaceEmbeddings\n",
    "from langchain.llms import OpenAI  # 또는 ChatOpenAI\n",
    "from langchain.callbacks.streaming_stdout import StreamingStdOutCallbackHandler\n",
    "from IPython.display import display, Markdown\n",
    "\n",
    "# 🔹 1. 같은 임베딩 모델로 로딩\n",
    "embedding = HuggingFaceEmbeddings(model_name=\"sentence-transformers/all-MiniLM-L6-v2\")\n",
    "\n",
    "# 🔹 2. 저장된 FAISS 인덱스 로드\n",
    "vectorstore = FAISS.load_local(\"model/dev_center_guide_index\", embedding, allow_dangerous_deserialization=True)\n",
    "retriever = vectorstore.as_retriever(search_kwargs={\"k\": 3})\n",
    "\n",
    "# 🔹 3. LLM 및 메모리 세팅\n",
    "llm = OpenAI(\n",
    "    temperature=0.1,\n",
    "    streaming=True,\n",
    "    callbacks=[StreamingStdOutCallbackHandler()],\n",
    "    max_tokens=2048\n",
    "  )\n",
    "\n",
    "memory = ConversationBufferMemory(\n",
    "  memory_key=\"chat_history\", \n",
    "  return_messages=True,\n",
    "  output_key=\"answer\"\n",
    "  )\n",
    "\n",
    "# 🔹 4. 대화형 QA 체인 생성\n",
    "qa_chain = ConversationalRetrievalChain.from_llm(\n",
    "    llm=llm,\n",
    "    retriever=retriever,\n",
    "    memory=memory,\n",
    "    return_source_documents=True,\n",
    "    output_key=\"answer\" \n",
    ")\n",
    "\n",
    "# 🔹 5. 질의\n",
    "query = \"인앱 연동을 위한 전체 과정을 설명해줘.\"\n",
    "response = qa_chain({\"question\": query})\n",
    "# print(\"답변:\\n\", response[\"answer\"])\n",
    "display(Markdown(response[\"answer\"]))  # 또는 파일로 저장"
   ]
  }
 ],
 "metadata": {
  "kernelspec": {
   "display_name": "Python 3.11 (myenv)",
   "language": "python",
   "name": "myenv"
  }
 },
 "nbformat": 4,
 "nbformat_minor": 5
}
