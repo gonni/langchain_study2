{
 "cells": [
  {
   "cell_type": "code",
   "execution_count": 12,
   "id": "5f6ab1e7",
   "metadata": {},
   "outputs": [
    {
     "name": "stdout",
     "output_type": "stream",
     "text": [
      "LangSmith 추적을 시작합니다.\n",
      "[프로젝트명]\n",
      "CH04-Models\n"
     ]
    }
   ],
   "source": [
    "# LangSmith 추적을 설정합니다. https://smith.langchain.com\n",
    "# !pip install langchain-teddynote\n",
    "from langchain_teddynote import logging\n",
    "\n",
    "# 프로젝트 이름을 입력합니다.\n",
    "logging.langsmith(\"CH04-Models\")\n"
   ]
  },
  {
   "cell_type": "code",
   "execution_count": 13,
   "id": "601d82a4",
   "metadata": {},
   "outputs": [
    {
     "name": "stdout",
     "output_type": "stream",
     "text": [
      "안녕하세요! 저는 OpenAI에서 개발한 대화형 언어 모델인 GPT-3 (Generative Pre-trained Transformer 3)입니다. Llama2와 마찬가지로, 방대한 양의 텍스트 데이터를 학습하여 다양한 주제에 대한 정보를 제공하고 질문에 답하며 창의적인 응답을 생성할 수 있습니다.\n",
      "\n",
      "GPT-3는 자연어 처리(NLP) 분야에서 큰 진전을 이루었으며, 인간처럼 더 복잡하고 맥락에 맞는 대화를 이해하고 생성할 수 있게 되었습니다. 저는 언어 모델링과 머신 러닝 분야의 최신 기술을 사용하여 개발되었으며, 대규모의 훈련 데이터와 고급 컴퓨팅 능력을 활용하여 보다 정확하고 매력적인 응답을 제공할 수 있습니다.\n",
      "\n",
      "Llama2는 한국어 특화 모델인 반면, GPT-3는 영어와 다른 여러 언어를 포함한 다양한 언어에 대해 일반화되어 학습되었습니다. 저는 텍스트 분류, 감정 분석, 대규모 질의응답 시스템과 같은 작업에도 사용될 수 있으며, 언어 이해 및 생성 능력으로 인해 다양한 응용 분야에서 유용하게 쓰일 수 있습니다.\n",
      "\n",
      "이 정보가 도움이 되었길 바라며, 궁금한 점이 있으면 언제든지 물어보세요!"
     ]
    }
   ],
   "source": [
    "from langchain_community.chat_models import ChatOllama\n",
    "from langchain_core.output_parsers import StrOutputParser\n",
    "from langchain_core.prompts import ChatPromptTemplate\n",
    "from langchain_teddynote.messages import stream_response\n",
    "\n",
    "# Ollama 모델을 불러옵니다.\n",
    "llm = ChatOllama(model=\"llama2-open-korean:latest\")\n",
    "\n",
    "# 프롬프트\n",
    "prompt = ChatPromptTemplate.from_template(\"{topic} 에 대하여 간략히 설명해 줘.\")\n",
    "\n",
    "# 체인 생성\n",
    "chain = prompt | llm | StrOutputParser()\n",
    "\n",
    "# 간결성을 위해 응답은 터미널에 출력됩니다.\n",
    "answer = chain.stream({\"topic\": \"llma2 기반의 한국어 모델로만 알고 있는데 당신은 어떤 모델이니?\"})\n",
    "\n",
    "# 스트리밍 출력\n",
    "stream_response(answer)\n"
   ]
  },
  {
   "cell_type": "code",
   "execution_count": 15,
   "id": "7d6c6fc6",
   "metadata": {},
   "outputs": [
    {
     "name": "stdout",
     "output_type": "stream",
     "text": [
      "구글은 인터넷 검색 엔진으로서 전 세계적인 성공을 거두며 시작된 다국적 기술 회사입니다. 라리 페이지와 세르게이 브린 두 명의 스탠퍼드 대학 박사과정 학생들이 1998년에 창립하였습니다. 구글의 주요 서비스는 현재 세계에서 가장 큰 검색 엔진 중 하나인 자체 개발한 온라인 검색 엔진 '구글'을 중심으로 운영되고 있습니다.\n",
      "\n",
      "수년 동안, 구글은 다양한 분야에서 사업을 확장해 왔으며 주로 기술 및 인터넷 관련 분야를 다루고 있습니다:\n",
      "\n",
      "1. 소프트웨어 및 하드웨어: 구글은 스마트폰, 태블릿, 웨어러블 기기를 위한 모바일 플랫폼인 안드로이드와 픽셀(스마트폰 및 기타 기기)을 포함한 다양한 하드웨어를 개발하고 판매합니다. 또한 클라우드 기반 서비스를 위한 인기 있는 운영 체제인 구글 크롬 OS도 제공합니다.\n",
      "2. 온라인 광고: 구글은 유튜브, 검색 엔진 결과 페이지 등을 통해 방대한 사용자 기반을 활용하여 디스플레이 광고, 비디오 광고 등 다양한 형태의 온라인 광고를 제공합니다.\n",
      "3. 하드웨어 및 소프트웨어 인프라: 구글은 클라우드 컴퓨팅 서비스를 위한 고성능 서버와 데이터 센터를 설계하고 운영합니다. 또한 클라우드 기반 저장소인 구글 드라이브, 협업 도구인 구글 워크스페이스와 같은 다양한 소프트웨어를 개발했습니다.\n",
      "4. 하드웨어 및 모바일: 구글은 네스트(스마트 홈 기기)와 웨어OS(스마트워치용 운영체제)를 포함한 다수의 회사를 인수하여 소비자 전자 제품 시장에 진출하였습니다.\n",
      "5. 연구 및 혁신: 알파벳과 같은 자회사 아래에 위치한 비밀스러운 X랩을 통해 자율 주행 자동차, 생명 과학 등의 분야에서 고급 기술을 개발하고 있습니다.\n",
      "6. 금융 서비스: 구글은 체크링크(온라인 결제 서비스)와 구글 페이(모바일 결제 시스템)를 포함한 다양한 금융 서비스를 제공합니다.\n",
      "7. 미디어 및 엔터테인먼트: 구글의 유튜브 플랫폼은 세계 최대 비디오 공유 웹사이트로 성장하여, 사용자들이 콘텐츠 제작자가 되고, 수익 창출과 홍보를 위한 기회를 제공하게 되었습니다. 또한 스트리밍 서비스인 유튜브 TV와 음악 스트리밍 서비스인 유튜브 뮤직도 운영하고 있습니다.\n",
      "8. 인공지능(AI) 및 머신러닝: 구글은 AI 분야에서 선도적인 역할을 하고 있으며, 자체 개발한 언어 모델인 버트(BERT)와 음성 인식 기술을 사용하는 가상 비서 어시스턴트인 구글 어시스턴트 등이 있습니다.\n",
      "\n",
      "구글의 주요 목표 중 하나는 전 세계적으로 다양한 제품 및 서비스를 제공하여 사람들의 삶을 향상시키는 것입니다. 구글은 또한 사회적인 책임에 대한 강한 약속과 환경 지속 가능성을 유지하며, 윤리적이고 책임감 있는 기업을 유지하기 위해 노력합니다."
     ]
    }
   ],
   "source": [
    "async for chunks in chain.astream(\n",
    "    {\"topic\": \"구글\"}\n",
    "):  # 비동기적으로 체인을 실행하여 청크 단위로 결과를 반환합니다.\n",
    "    print(chunks, end=\"\", flush=True)  # 각 청크를 출력합니다.\n"
   ]
  },
  {
   "cell_type": "code",
   "execution_count": 18,
   "id": "dba75eb6",
   "metadata": {},
   "outputs": [
    {
     "name": "stdout",
     "output_type": "stream",
     "text": [
      "{\n",
      "  \"places\": [\n",
      "    {\n",
      "      \"name\": \"Paris, France\",\n",
      "      \"description\": \"The City of Love and Romance, home to iconic landmarks like the Eiffel Tower, Louvre Museum, and Notre Dame Cathedral.\",\n",
      "      \"image\": \"https://upload.wikimedia.org/wikipedia/commons/thumb/a/a8/Paris_from_the_tour_montparnasse,_2015-03-29.jpg/1200px-Paris_from_the_tour_montparnasse,_2015-03-29.jpg\"\n",
      "    },\n",
      "    {\n",
      "      \"name\": \"London, United Kingdom\",\n",
      "      \"description\": \"A vibrant city with a rich history, featuring Buckingham Palace, Tower of London, and the British Museum.\",\n",
      "      \"image\": \"https://upload.wikimedia.org/wikipedia/commons/thumb/a/a8/Paris_from_the_tour_montparnasse,_2015-03-29.jpg/1200px-Paris_from_the_tour_montparnasse,_2015-03-29.jpg\"\n",
      "    },\n",
      "    {\n",
      "      \"name\": \"Barcelona, Spain\",\n",
      "      \"description\": \"A coastal city known for its stunning architecture by Antoni Gaudí, including La Sagrada Familia and Park Güell.\",\n",
      "      \"image\": \"https://upload.wikimedia.org/wikipedia/commons/thumb/a/a8/Paris_from_the_tour_montparnasse,_2015-03-29.jpg/1200px-Paris_from_the_tour_montparnasse,_2015-03-29.jpg\"\n",
      "    },\n",
      "    {\n",
      "      \"name\": \"Amsterdam, Netherlands\",\n",
      "      \"description\": \"A picturesque city with beautiful canals, historic architecture, and a lively nightlife.\",\n",
      "      \"image\": \"https://upload.wikimedia.org/wikipedia/commons/thumb/a/a8/Paris_from_the_tour_montparnasse,_2015-03-29.jpg/1200px-Paris_from_the_tour_montparnasse,_2015-03-29.jpg\"\n",
      "    },\n",
      "    {\n",
      "      \"name\": \"Prague, Czech Republic\",\n",
      "      \"description\": \"A charming city with a rich history and stunning architecture, including the Charles Bridge and Prague Castle.\",\n",
      "      \"image\": \"https://upload.wikimedia.org/wikipedia/commons/thumb/a/a8/Paris_from_the_tour_montparnasse,_2015-03-29.jpg/1200px-Paris_from_the_tour_montparnasse,_2015-03-29.jpg\"\n",
      "    },\n",
      "    {\n",
      "      \"name\": \"Rome, Italy\",\n",
      "      \"description\": \"The Eternal City with iconic landmarks like the Colosseum, Trevi Fountain, and the Vatican City.\",\n",
      "      \"image\": \"https://upload.wikimedia.org/wikipedia/commons/thumb/a/a8/Paris_from_the_tour_montparnasse,_2015-03-29.jpg/1200px-Paris_from_the_tour_montparnasse,_2015-03-29.jpg\"\n",
      "    },\n",
      "    {\n",
      "      \"name\": \"Venice, Italy\",\n",
      "      \"description\": \"A unique city built on water with stunning canals and historic architecture, including St. Mark's Square.\",\n",
      "      \"image\": \"https://upload.wikimedia.org/wikipedia/commons/thumb/a/a8/Paris_from_the_tour_montparnasse,_2015-03-29.jpg/1200px-Paris_from_the_tour_montparnasse,_2015-03-29.jpg\"\n",
      "    },\n",
      "    {\n",
      "      \"name\": \"Interlaken, Switzerland\",\n",
      "      \"description\": \"A picturesque town surrounded by stunning mountain scenery and popular for outdoor activities like hiking and skiing.\",\n",
      "      \"image\": \"https://upload.wikimedia.org/wikipedia/commons/thumb/a/a8/Paris_from_the_tour_montparnasse,_2015-03-29.jpg/1200px-Paris_from_the_tour_montparnasse,_2015-03-29.jpg\"\n",
      "    },\n",
      "    {\n",
      "      \"name\": \"Berlin, Germany\",\n",
      "      \"description\": \"A vibrant city with a rich history and modern culture, featuring the Brandenburg Gate and the Berlin Wall Memorial.\",\n",
      "      \"image\": \"https://upload.wikimedia.org/wikipedia/commons/thumb/a/a8/Paris_from_the_tour_montparnasse,_2015-03-29.jpg/1200px-Paris_from_the_tour_montparnasse,_2015-03-29.jpg\"\n",
      "    },\n",
      "    {\n",
      "      \"name\": \"Zurich, Switzerland\",\n",
      "      \"description\": \"A beautiful city with a picturesque old town, stunning lake views, and a vibrant cultural scene.\",\n",
      "      \"image\": \"https://upload.wikimedia.org/wikipedia/commons/thumb/a/a8/Paris_from_the_tour_montparnasse,_2015-03-29.jpg/1200px-Paris_from_the_tour_montparnasse,_2015-03-29.jpg\"\n",
      "    }\n",
      "  ]\n",
      "}\n"
     ]
    }
   ],
   "source": [
    "from langchain_community.chat_models import ChatOllama\n",
    "\n",
    "llm = ChatOllama(\n",
    "    model=\"eeve-kor-10:latest\",  # 사용할 언어 모델을 지정합니다.\n",
    "    format=\"json\",  # 입출력 형식을 JSON으로 설정합니다.\n",
    "    temperature=0,\n",
    ")\n",
    "\n",
    "# JSON 답변을 요구하는 프롬프트 작성\n",
    "prompt = \"유럽 여행지 10곳을 알려주세요. key: `places`. resonse in JSON format.\"\n",
    "\n",
    "# 체인 호출\n",
    "response = llm.invoke(prompt)\n",
    "print(response.content)  # 생성된 응답을 출력합니다.\n",
    "\n"
   ]
  },
  {
   "cell_type": "code",
   "execution_count": 11,
   "id": "6af0f4f6",
   "metadata": {},
   "outputs": [
    {
     "name": "stdout",
     "output_type": "stream",
     "text": [
      "물론이죠, 유럽 여행지 10곳을 JSON 형식으로 제공해 드리겠습니다:\n",
      "\n",
      "{\n",
      "  \"places\": [\"Paris\", \"Rome\", \"Prague\", \"Barcelona\", \"Berlin\", \"Amsterdam\", \"Zurich\", \"Lisbon\", \"Vienna\", \"Innsbruck\"]\n",
      "}"
     ]
    }
   ],
   "source": [
    "from langchain_community.chat_models import ChatOllama\n",
    "from langchain_core.output_parsers import StrOutputParser\n",
    "from langchain_core.prompts import ChatPromptTemplate\n",
    "from langchain_teddynote.messages import stream_response\n",
    "\n",
    "# ----------------------------------------\n",
    "# 1. Ollama 모델 설정\n",
    "# ----------------------------------------\n",
    "llm = ChatOllama(\n",
    "    model=\"llama2-open-korean:latest\",\n",
    "    temperature=0.3,  # JSON 구조를 잘 따르면서도 속도 저하를 줄이기 위해 약간의 온도 설정\n",
    ")\n",
    "\n",
    "# ----------------------------------------\n",
    "# 2. 프롬프트 작성 (중괄호 이스케이프)\n",
    "# ----------------------------------------\n",
    "prompt = ChatPromptTemplate.from_template(\"\"\"\n",
    "유럽 여행지 10곳을 JSON 형식으로 알려주세요.\n",
    "\n",
    "아래 형식(예시)으로 응답해 주세요:\n",
    "\n",
    "{{  \n",
    "  \"places\": [\"파리\", \"로마\", \"프라하\", \"바르셀로나\", \"베를린\", \"암스테르담\", \"취리히\", \"리스본\", \"빈\", \"인스브루크\"]  \n",
    "}}\n",
    "\"\"\")\n",
    "\n",
    "# ----------------------------------------\n",
    "# 3. 체인 구성 (프롬프트 → LLM → 문자열 파서)\n",
    "# ----------------------------------------\n",
    "chain = prompt | llm | StrOutputParser()\n",
    "\n",
    "# ----------------------------------------\n",
    "# 4. 스트리밍 응답 호출\n",
    "# ----------------------------------------\n",
    "response = chain.stream({})\n",
    "\n",
    "# ----------------------------------------\n",
    "# 5. 실시간 출력\n",
    "# ----------------------------------------\n",
    "stream_response(response)"
   ]
  },
  {
   "cell_type": "code",
   "execution_count": 24,
   "id": "80a12ab1",
   "metadata": {},
   "outputs": [],
   "source": [
    "from langchain_community.chat_models import ChatOllama\n",
    "\n",
    "llm = ChatOllama(\n",
    "    model=\"eeve-kor-10:latest\",  # 사용할 언어 모델을 지정합니다.\n",
    "    # format=\"json\",  # 입출력 형식을 JSON으로 설정합니다.\n",
    "    temperature=0.3,\n",
    ")"
   ]
  },
  {
   "cell_type": "code",
   "execution_count": 25,
   "id": "5d2980da",
   "metadata": {},
   "outputs": [
    {
     "data": {
      "text/plain": [
       "'안녕하세요! 대한민국의 수도에 대해 궁금해하시는군요. 서울이 바로 그 곳입니다! 서울은 나라의 북부에 위치해 있으며 정치, 경제, 문화의 중심지 역할을 하고 있습니다. 또한 세계에서 가장 인구가 많고 활기찬 도시 중 하나로, 다양한 볼거리와 경험을 제공합니다. 도움이 되셨길 바랍니다! 또 다른 질문이 있으신가요?'"
      ]
     },
     "execution_count": 25,
     "metadata": {},
     "output_type": "execute_result"
    }
   ],
   "source": [
    "from langchain_core.prompts import PromptTemplate\n",
    "\n",
    "# template 정의. {country}는 변수로, 이후에 값이 들어갈 자리를 의미\n",
    "template = \"{country}의 수도는 어디인가요?\"\n",
    "\n",
    "# from_template 메소드를 이용하여 PromptTemplate 객체 생성\n",
    "prompt = PromptTemplate.from_template(template)\n",
    "# chain 생성\n",
    "chain = prompt | llm\n",
    "\n",
    "chain.invoke(\"대한민국\").content\n"
   ]
  },
  {
   "cell_type": "code",
   "execution_count": 27,
   "id": "8a4d3756",
   "metadata": {},
   "outputs": [
    {
     "name": "stdout",
     "output_type": "stream",
     "text": [
      "물론이죠! June 15일은 여러 유명 인사들의 생일로 축하받는 날입니다. 여기 몇 명을 소개합니다:\n",
      "\n",
      "1. 마릴린 먼로 (Norma Jeane Mortenson), 1926년 6월 1일 출생 - 미국의 배우이자 모델, 가수였습니다. 그녀는 \"Seven Year Itch\"와 \"Some Like It Hot\"과 같은 영화에서 연기한 것으로 유명합니다.\n",
      "2. 마이클 J. 폭스 (Michael Andrew Fox), 1961년 6월 9일 출생 - 캐나다 출신의 미국 배우이자 프로듀서입니다. 그는 TV 시리즈 \"Family Ties\", \"Spin City\" 그리고 영화 \"Back to the Future\"에서 마이클 J. 폭스 역으로 잘 알려져 있습니다.\n",
      "3. 크리스틴 스튜어트 (Christine Stewart), 1990년 4월 9일 출생 - 미국의 배우입니다. 그녀는 \"Twilight\" 시리즈에서 벨라 스완 역할과 \"Snow White and the Huntsman\"에서의 백설공주 역할로 잘 알려져 있습니다.\n",
      "\n",
      "이 정보가 도움이 되길 바랍니다! 다른 궁금한 점이 있으시면 알려주세요.\n"
     ]
    }
   ],
   "source": [
    "from datetime import datetime\n",
    "\n",
    "# 오늘 날짜를 출력\n",
    "datetime.now().strftime(\"%B %d\")\n",
    "\n",
    "# 날짜를 반환하는 함수 정의\n",
    "def get_today():\n",
    "    return datetime.now().strftime(\"%B %d\")\n",
    "\n",
    "prompt = PromptTemplate(\n",
    "    template=\"오늘의 날짜는 {today} 입니다. 오늘이 생일인 유명인 {n}명을 나열해 주세요. 생년월일을 표기해주세요.\",\n",
    "    input_variables=[\"n\"],\n",
    "    partial_variables={\n",
    "        \"today\": get_today  # dictionary 형태로 partial_variables를 전달\n",
    "    },\n",
    ")\n",
    "# prompt 생성\n",
    "prompt.format(n=3)\n",
    "\n",
    "# chain 을 생성합니다.\n",
    "chain = prompt | llm\n",
    "\n",
    "# chain 을 실행 후 결과를 확인합니다.\n",
    "print(chain.invoke(3).content)\n"
   ]
  }
 ],
 "metadata": {
  "kernelspec": {
   "display_name": "venv",
   "language": "python",
   "name": "python3"
  },
  "language_info": {
   "codemirror_mode": {
    "name": "ipython",
    "version": 3
   },
   "file_extension": ".py",
   "mimetype": "text/x-python",
   "name": "python",
   "nbconvert_exporter": "python",
   "pygments_lexer": "ipython3",
   "version": "3.11.12"
  }
 },
 "nbformat": 4,
 "nbformat_minor": 5
}
